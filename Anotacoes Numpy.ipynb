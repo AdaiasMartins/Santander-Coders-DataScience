{
 "cells": [
  {
   "cell_type": "code",
   "execution_count": 5,
   "id": "91ae6fab",
   "metadata": {},
   "outputs": [],
   "source": [
    "import numpy as np"
   ]
  },
  {
   "cell_type": "code",
   "execution_count": 32,
   "id": "061b575d",
   "metadata": {},
   "outputs": [
    {
     "name": "stdout",
     "output_type": "stream",
     "text": [
      "[1, 3, 3, 4, 5]\n",
      "[1 3 3 4 5]\n"
     ]
    }
   ],
   "source": [
    "#lista generica em python\n",
    "lista_de_numeros = [1 , 2, 3, 4, 5]\n",
    "lista_de_numeros[1] = 3\n",
    "print(lista_de_numeros)\n",
    "\n",
    "#Array do numpy criada a partir da lista anterior\n",
    "array_numpy = np.array(lista_de_numeros)\n",
    "print(array_numpy)"
   ]
  },
  {
   "cell_type": "code",
   "execution_count": 33,
   "id": "dff3c9d3",
   "metadata": {},
   "outputs": [
    {
     "name": "stdout",
     "output_type": "stream",
     "text": [
      "<class 'list'>\n",
      "<class 'numpy.ndarray'>\n"
     ]
    }
   ],
   "source": [
    "#Apesar de ambos serem listas o python considera a Array do numpy um tipo distinto\n",
    "print(type(lista_de_numeros))\n",
    "print(type(array_numpy))"
   ]
  },
  {
   "cell_type": "code",
   "execution_count": 19,
   "id": "3edf3432",
   "metadata": {},
   "outputs": [
    {
     "name": "stdout",
     "output_type": "stream",
     "text": [
      "[0. 0. 0. 0. 0. 0. 0.]\n"
     ]
    }
   ],
   "source": [
    "#Funcao pronta do numpy para criar uma lista de zeros, onde a quantidade de numeros e usada como parametro \n",
    "lista_de_zeros = np.zeros(7)\n",
    "print(Lista_de_zeros)"
   ]
  },
  {
   "cell_type": "code",
   "execution_count": 25,
   "id": "20e10dc4",
   "metadata": {},
   "outputs": [
    {
     "name": "stdout",
     "output_type": "stream",
     "text": [
      "[[0. 0. 0. 0. 0. 0. 0.]\n",
      " [0. 0. 0. 0. 0. 0. 0.]\n",
      " [0. 0. 0. 0. 0. 0. 0.]\n",
      " [0. 0. 0. 0. 0. 0. 0.]\n",
      " [0. 0. 0. 0. 0. 0. 0.]]\n"
     ]
    }
   ],
   "source": [
    "#Matrizes\n",
    "matriz_de_zeros = np.zeros((5,7))\n",
    "print(matrizDeZeros)"
   ]
  },
  {
   "cell_type": "code",
   "execution_count": 44,
   "id": "d8bce704",
   "metadata": {},
   "outputs": [
    {
     "name": "stdout",
     "output_type": "stream",
     "text": [
      "maior nota 9.8\n",
      "menor nota 4.3\n",
      "desvio padrao 1.9089263998384014\n",
      "media 6.9\n",
      "Posicao menor numero 2\n",
      "Posicao maior numero 0\n"
     ]
    }
   ],
   "source": [
    "#Exemplo de manipulacao de Arrays do numpy\n",
    "notas_da_prova = [9.8, 7.7, 4.3, 5.4, 7.3]\n",
    "\n",
    "array_de_notas = np.array(notas_da_prova)\n",
    "\n",
    "#funcoes simples\n",
    "print(\"maior nota\" , array_de_notas.max())\n",
    "print(\"menor nota\",  array_de_notas.min())\n",
    "print(\"desvio padrao\", array_de_notas.std())\n",
    "print(\"media\", array_de_notas.mean())\n",
    "\n",
    "#funcoes mais especificas\n",
    "print(\"Posicao menor numero\", array_de_notas.argmin())\n",
    "print(\"Posicao maior numero\", array_de_notas.argmax())"
   ]
  },
  {
   "cell_type": "code",
   "execution_count": null,
   "id": "e12a35d0",
   "metadata": {},
   "outputs": [],
   "source": []
  }
 ],
 "metadata": {
  "kernelspec": {
   "display_name": "Python 3 (ipykernel)",
   "language": "python",
   "name": "python3"
  },
  "language_info": {
   "codemirror_mode": {
    "name": "ipython",
    "version": 3
   },
   "file_extension": ".py",
   "mimetype": "text/x-python",
   "name": "python",
   "nbconvert_exporter": "python",
   "pygments_lexer": "ipython3",
   "version": "3.9.13"
  }
 },
 "nbformat": 4,
 "nbformat_minor": 5
}
