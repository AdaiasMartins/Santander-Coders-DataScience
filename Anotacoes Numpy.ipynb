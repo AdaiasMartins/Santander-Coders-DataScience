{
 "cells": [
  {
   "cell_type": "markdown",
   "id": "f4348404",
   "metadata": {},
   "source": [
    "# Introducao ao Numpy"
   ]
  },
  {
   "cell_type": "code",
   "execution_count": 14,
   "id": "91ae6fab",
   "metadata": {},
   "outputs": [],
   "source": [
    "import numpy as np"
   ]
  },
  {
   "cell_type": "code",
   "execution_count": 6,
   "id": "061b575d",
   "metadata": {},
   "outputs": [
    {
     "name": "stdout",
     "output_type": "stream",
     "text": [
      "[1, 3, 3, 4, 5]\n",
      "[1 3 3 4 5]\n"
     ]
    }
   ],
   "source": [
    "#lista generica em python\n",
    "lista_de_numeros = [1 , 2, 3, 4, 5]\n",
    "lista_de_numeros[1] = 3\n",
    "print(lista_de_numeros)\n",
    "\n",
    "#Array do numpy criada a partir da lista anterior\n",
    "array_numpy = np.array(lista_de_numeros)\n",
    "print(array_numpy)"
   ]
  },
  {
   "cell_type": "code",
   "execution_count": 7,
   "id": "dff3c9d3",
   "metadata": {},
   "outputs": [
    {
     "name": "stdout",
     "output_type": "stream",
     "text": [
      "<class 'list'>\n",
      "<class 'numpy.ndarray'>\n"
     ]
    }
   ],
   "source": [
    "#Apesar de ambos serem listas o python considera a Array do numpy um tipo distinto\n",
    "print(type(lista_de_numeros))\n",
    "print(type(array_numpy))"
   ]
  },
  {
   "cell_type": "code",
   "execution_count": 12,
   "id": "3edf3432",
   "metadata": {
    "scrolled": true
   },
   "outputs": [
    {
     "name": "stdout",
     "output_type": "stream",
     "text": [
      "[0. 0. 0. 0. 0. 0. 0.]\n",
      "[1. 1. 1. 1. 1. 1. 1. 1. 1.]\n"
     ]
    }
   ],
   "source": [
    "#Funcao pronta do numpy para criar uma lista de um numero especifico, onde a quantidade de numeros e usada como parametro \n",
    "lista_de_zeros = np.zeros(7)\n",
    "lista_de_uns = np.ones(9)\n",
    "print(lista_de_zeros)\n",
    "print(lista_de_uns)"
   ]
  },
  {
   "cell_type": "code",
   "execution_count": 16,
   "id": "20e10dc4",
   "metadata": {},
   "outputs": [
    {
     "name": "stdout",
     "output_type": "stream",
     "text": [
      "[[0. 0. 0. 0. 0. 0. 0.]\n",
      " [0. 0. 0. 0. 0. 0. 0.]\n",
      " [0. 0. 0. 0. 0. 0. 0.]\n",
      " [0. 0. 0. 0. 0. 0. 0.]\n",
      " [0. 0. 0. 0. 0. 0. 0.]]\n"
     ]
    }
   ],
   "source": [
    "#Matrizes\n",
    "matriz_de_zeros = np.zeros((5,7))\n",
    "print(matriz_de_zeros)"
   ]
  },
  {
   "cell_type": "code",
   "execution_count": 17,
   "id": "d8bce704",
   "metadata": {},
   "outputs": [
    {
     "name": "stdout",
     "output_type": "stream",
     "text": [
      "maior nota 9.8\n",
      "menor nota 4.3\n",
      "desvio padrao 1.9089263998384014\n",
      "media 6.9\n",
      "Posicao menor numero 2\n",
      "Posicao maior numero 0\n"
     ]
    }
   ],
   "source": [
    "#Exemplo de manipulacao de Arrays do numpy\n",
    "notas_da_prova = [9.8, 7.7, 4.3, 5.4, 7.3]\n",
    "\n",
    "array_de_notas = np.array(notas_da_prova)\n",
    "\n",
    "#funcoes simples\n",
    "print(\"maior nota\" , array_de_notas.max())\n",
    "print(\"menor nota\",  array_de_notas.min())\n",
    "print(\"desvio padrao\", array_de_notas.std())\n",
    "print(\"media\", array_de_notas.mean())\n",
    "\n",
    "#funcoes mais especificas\n",
    "print(\"Posicao menor numero\", array_de_notas.argmin())\n",
    "print(\"Posicao maior numero\", array_de_notas.argmax())"
   ]
  },
  {
   "cell_type": "markdown",
   "id": "aa9f625e",
   "metadata": {},
   "source": [
    "# Mascaras Booleanas"
   ]
  },
  {
   "cell_type": "code",
   "execution_count": 19,
   "id": "fc4ea1e6",
   "metadata": {},
   "outputs": [
    {
     "name": "stdout",
     "output_type": "stream",
     "text": [
      "['Yes' 'No' 'Yes' 'Yes' 'No']\n"
     ]
    }
   ],
   "source": [
    "is_covid_positive = np.array([\"Yes\", \"No\", \"Yes\", \"Yes\", \"No\"])\n",
    "print(is_covid_positive)"
   ]
  },
  {
   "cell_type": "code",
   "execution_count": 21,
   "id": "24834670",
   "metadata": {},
   "outputs": [
    {
     "name": "stdout",
     "output_type": "stream",
     "text": [
      "[ True False  True  True False]\n"
     ]
    }
   ],
   "source": [
    "#Ao definir uma mascara booleana com uma condicao podemos ver quais dos itens atendem a essa condicao\n",
    "mask = is_covid_positive == \"Yes\"\n",
    "print(mask)"
   ]
  },
  {
   "cell_type": "code",
   "execution_count": 23,
   "id": "4935944b",
   "metadata": {},
   "outputs": [
    {
     "name": "stdout",
     "output_type": "stream",
     "text": [
      "['Yes' 'Yes' 'Yes']\n"
     ]
    }
   ],
   "source": [
    "#Isto pode ser muito util para filtrar dados dentro de uma array, tendo em vista que podemos buscar os itens que atendem a condicao\n",
    "print(is_covid_positive[mask])"
   ]
  },
  {
   "cell_type": "code",
   "execution_count": 27,
   "id": "7de30ede",
   "metadata": {},
   "outputs": [
    {
     "name": "stdout",
     "output_type": "stream",
     "text": [
      "['C19' 'No' 'C19' 'C19' 'No']\n"
     ]
    }
   ],
   "source": [
    "#A mascara tambem pode ser muito util para a edicao de itens que atendem a nossa condicao definida\n",
    "is_covid_positive[mask] = \"C19\"\n",
    "print(is_covid_positive)"
   ]
  },
  {
   "cell_type": "code",
   "execution_count": 35,
   "id": "9bbb0176",
   "metadata": {},
   "outputs": [
    {
     "name": "stdout",
     "output_type": "stream",
     "text": [
      "[9.8 7.7 8.3]\n",
      "[ True  True  True False False]\n"
     ]
    }
   ],
   "source": [
    "#A condicao de uma mascara tambem pode ser uma operacao matematica\n",
    "media_dos_alunos = np.array([(9.8), 7.7, 8.3, 5.4, 6.8])\n",
    "mask =  media_dos_alunos > 7\n",
    "print(media_dos_alunos[mask])\n",
    "print(mask)"
   ]
  },
  {
   "cell_type": "code",
   "execution_count": 48,
   "id": "6160432f",
   "metadata": {},
   "outputs": [
    {
     "name": "stdout",
     "output_type": "stream",
     "text": [
      "Aprovados:  [('Joao', 9.8) ('Maria', 7.7) ('Pedro', 8.3)]\n",
      "Reprovados:  [('Vitoria', 5.4) ('Raissa', 6.8)]\n"
     ]
    }
   ],
   "source": [
    "#Para filtrar os tipos de dados dentro de um item da array, podemos especificar o tipo de dados de cada valor do nosso item\n",
    "alunos_e_resultados = np.array([(\"Joao\", 9.8), (\"Maria\", 7.7), (\"Pedro\", 8.3), (\"Vitoria\", 5.4), (\"Raissa\", 6.8)], dtype = [(\"nome\", \"U10\"), (\"nota\", \"f4\")])\n",
    "\n",
    "#No dtype eu defini o primeiro elemento de cada item como um U10, onde U significa unicode string e o valor é o máximo de caracteres\n",
    "#No segundo elemento o \"f\" representa um numero flutuante e o 4 é o numero de bytes que ocupará na memória\n",
    "\n",
    "resultados = alunos_e_resultados[\"nota\"]\n",
    "mask_aprovados = resultados >= 7\n",
    "alunos_aprovados = alunos_e_resultados[mask_aprovados]\n",
    "\n",
    "mask_reprovados = ~mask_aprovados\n",
    "alunos_reprovados = alunos_e_resultados[mask_reprovados]\n",
    "\n",
    "print(\"Aprovados: \", alunos_aprovados)\n",
    "print(\"Reprovados: \", alunos_reprovados)\n",
    "\n",
    "\n"
   ]
  }
 ],
 "metadata": {
  "kernelspec": {
   "display_name": "Python 3 (ipykernel)",
   "language": "python",
   "name": "python3"
  },
  "language_info": {
   "codemirror_mode": {
    "name": "ipython",
    "version": 3
   },
   "file_extension": ".py",
   "mimetype": "text/x-python",
   "name": "python",
   "nbconvert_exporter": "python",
   "pygments_lexer": "ipython3",
   "version": "3.9.13"
  }
 },
 "nbformat": 4,
 "nbformat_minor": 5
}
