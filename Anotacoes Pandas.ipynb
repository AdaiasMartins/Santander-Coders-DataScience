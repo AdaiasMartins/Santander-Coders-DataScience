{
 "cells": [
  {
   "cell_type": "markdown",
   "id": "6e7f01a3",
   "metadata": {},
   "source": [
    "# Introducao Pandas"
   ]
  },
  {
   "cell_type": "code",
   "execution_count": 70,
   "id": "746c838e",
   "metadata": {},
   "outputs": [],
   "source": [
    "import pandas as pd"
   ]
  },
  {
   "cell_type": "code",
   "execution_count": 71,
   "id": "74ba2120",
   "metadata": {},
   "outputs": [],
   "source": [
    "#O pandas pode ser muito util para indexar listas\n",
    "lista_de_numeros = [92, 10, 13, 32, 25, 13, 92, 52]\n",
    "\n",
    "serie_pandas = pd.Series(lista_de_numeros)"
   ]
  },
  {
   "cell_type": "code",
   "execution_count": 72,
   "id": "61a876d4",
   "metadata": {
    "scrolled": true
   },
   "outputs": [
    {
     "name": "stdout",
     "output_type": "stream",
     "text": [
      "0    92\n",
      "1    10\n",
      "2    13\n",
      "3    32\n",
      "4    25\n",
      "5    13\n",
      "6    92\n",
      "7    52\n",
      "dtype: int64\n",
      "O segundo numero da lista:  10\n"
     ]
    }
   ],
   "source": [
    "print(serie_pandas)\n",
    "print(\"O segundo numero da lista: \", serie_pandas[1])"
   ]
  },
  {
   "cell_type": "code",
   "execution_count": 73,
   "id": "79c60c51",
   "metadata": {},
   "outputs": [],
   "source": [
    "#Ele pode usar palavras como index, como por exemplo em um dicionario  de notas\n",
    "notas = {\"lucas\" : 8, \"joao\": 9, \"maria\" : 10, \"vitoria\" : 10}\n",
    "\n",
    "notas_pandas = pd.Series(notas)"
   ]
  },
  {
   "cell_type": "code",
   "execution_count": 74,
   "id": "cd663ec9",
   "metadata": {},
   "outputs": [
    {
     "name": "stdout",
     "output_type": "stream",
     "text": [
      "lucas       8\n",
      "joao        9\n",
      "maria      10\n",
      "vitoria    10\n",
      "dtype: int64\n",
      "A nota de Lucas foi:  8\n"
     ]
    }
   ],
   "source": [
    "print(notas_pandas)\n",
    "print(\"A nota de Lucas foi: \", notas_pandas[\"lucas\"])"
   ]
  },
  {
   "cell_type": "markdown",
   "id": "359f5e68",
   "metadata": {},
   "source": [
    "# Funcoes mais usadas Pandas"
   ]
  },
  {
   "cell_type": "code",
   "execution_count": 75,
   "id": "683b1431",
   "metadata": {},
   "outputs": [],
   "source": [
    "#O unique pode ser usado para buscar todos os elementos de uma tabela sem repeti-los\n",
    "numeros_unicos = serie_pandas.unique()\n",
    "#O describle mostra estatísticas descritivas, como média, desvio padrão, máximo, mínimo e outras tendências centrais\n",
    "descricao = serie_pandas.describe()"
   ]
  },
  {
   "cell_type": "code",
   "execution_count": 76,
   "id": "0bbe4b73",
   "metadata": {},
   "outputs": [
    {
     "name": "stdout",
     "output_type": "stream",
     "text": [
      "[92 10 13 32 25 52]\n"
     ]
    }
   ],
   "source": [
    "print(numeros_unicos)"
   ]
  },
  {
   "cell_type": "code",
   "execution_count": 77,
   "id": "98bd831c",
   "metadata": {},
   "outputs": [
    {
     "name": "stdout",
     "output_type": "stream",
     "text": [
      "count     8.000000\n",
      "mean     41.125000\n",
      "std      34.202913\n",
      "min      10.000000\n",
      "25%      13.000000\n",
      "50%      28.500000\n",
      "75%      62.000000\n",
      "max      92.000000\n",
      "dtype: float64\n"
     ]
    }
   ],
   "source": [
    "print(descricao)"
   ]
  },
  {
   "cell_type": "markdown",
   "id": "7b370b70",
   "metadata": {},
   "source": [
    "# Pandas Data frames"
   ]
  },
  {
   "cell_type": "code",
   "execution_count": 78,
   "id": "bbfc9784",
   "metadata": {},
   "outputs": [],
   "source": [
    "biblioteca_de_livros = {\n",
    "    'titulos': ['Cem Anos de Solidão', 'Dom Casmurro', 'A Metamorfose'],\n",
    "    'autores': ['Gabriel Garcia Marquez', 'Machado de Assis', 'Franz Kafka'],\n",
    "    'anos': [1967, 1899, 1915],\n",
    "    'editoras': ['Harper & Row', 'Editora Brasileira', 'Wolff'],\n",
    "    'valor': [45.00, 25.90, 34.99]\n",
    "}"
   ]
  },
  {
   "cell_type": "code",
   "execution_count": 79,
   "id": "772c2c40",
   "metadata": {},
   "outputs": [],
   "source": [
    "#Os DataFrames permitem trabalar dados em formato de tabela\n",
    "df = pd.DataFrame(biblioteca_de_livros)"
   ]
  },
  {
   "cell_type": "code",
   "execution_count": 80,
   "id": "4ed815f9",
   "metadata": {},
   "outputs": [
    {
     "data": {
      "text/html": [
       "<div>\n",
       "<style scoped>\n",
       "    .dataframe tbody tr th:only-of-type {\n",
       "        vertical-align: middle;\n",
       "    }\n",
       "\n",
       "    .dataframe tbody tr th {\n",
       "        vertical-align: top;\n",
       "    }\n",
       "\n",
       "    .dataframe thead th {\n",
       "        text-align: right;\n",
       "    }\n",
       "</style>\n",
       "<table border=\"1\" class=\"dataframe\">\n",
       "  <thead>\n",
       "    <tr style=\"text-align: right;\">\n",
       "      <th></th>\n",
       "      <th>titulos</th>\n",
       "      <th>autores</th>\n",
       "      <th>anos</th>\n",
       "      <th>editoras</th>\n",
       "      <th>valor</th>\n",
       "    </tr>\n",
       "  </thead>\n",
       "  <tbody>\n",
       "    <tr>\n",
       "      <th>0</th>\n",
       "      <td>Cem Anos de Solidão</td>\n",
       "      <td>Gabriel Garcia Marquez</td>\n",
       "      <td>1967</td>\n",
       "      <td>Harper &amp; Row</td>\n",
       "      <td>45.00</td>\n",
       "    </tr>\n",
       "    <tr>\n",
       "      <th>1</th>\n",
       "      <td>Dom Casmurro</td>\n",
       "      <td>Machado de Assis</td>\n",
       "      <td>1899</td>\n",
       "      <td>Editora Brasileira</td>\n",
       "      <td>25.90</td>\n",
       "    </tr>\n",
       "    <tr>\n",
       "      <th>2</th>\n",
       "      <td>A Metamorfose</td>\n",
       "      <td>Franz Kafka</td>\n",
       "      <td>1915</td>\n",
       "      <td>Wolff</td>\n",
       "      <td>34.99</td>\n",
       "    </tr>\n",
       "  </tbody>\n",
       "</table>\n",
       "</div>"
      ],
      "text/plain": [
       "               titulos                 autores  anos            editoras  \\\n",
       "0  Cem Anos de Solidão  Gabriel Garcia Marquez  1967        Harper & Row   \n",
       "1         Dom Casmurro        Machado de Assis  1899  Editora Brasileira   \n",
       "2        A Metamorfose             Franz Kafka  1915               Wolff   \n",
       "\n",
       "   valor  \n",
       "0  45.00  \n",
       "1  25.90  \n",
       "2  34.99  "
      ]
     },
     "execution_count": 80,
     "metadata": {},
     "output_type": "execute_result"
    }
   ],
   "source": [
    "df"
   ]
  },
  {
   "cell_type": "code",
   "execution_count": 81,
   "id": "7541ddfd",
   "metadata": {},
   "outputs": [
    {
     "data": {
      "text/plain": [
       "0    Cem Anos de Solidão\n",
       "1           Dom Casmurro\n",
       "2          A Metamorfose\n",
       "Name: titulos, dtype: object"
      ]
     },
     "execution_count": 81,
     "metadata": {},
     "output_type": "execute_result"
    }
   ],
   "source": [
    "#mostra todos os titulos\n",
    "df[\"titulos\"]"
   ]
  },
  {
   "cell_type": "code",
   "execution_count": 82,
   "id": "452062a7",
   "metadata": {},
   "outputs": [
    {
     "data": {
      "text/plain": [
       "'Cem Anos de Solidão'"
      ]
     },
     "execution_count": 82,
     "metadata": {},
     "output_type": "execute_result"
    }
   ],
   "source": [
    "#Mostra apenas o titulo no index 0\n",
    "df[\"titulos\"][0]"
   ]
  },
  {
   "cell_type": "code",
   "execution_count": 83,
   "id": "5090c4c8",
   "metadata": {},
   "outputs": [
    {
     "data": {
      "text/plain": [
       "35.296666666666674"
      ]
     },
     "execution_count": 83,
     "metadata": {},
     "output_type": "execute_result"
    }
   ],
   "source": [
    "#As colunas da tabela sao series do pandas, isso permite que usemos funcoes do pandas em partes especificas da tabela\n",
    "df[\"valor\"].mean()"
   ]
  },
  {
   "cell_type": "code",
   "execution_count": 84,
   "id": "4f0f145f",
   "metadata": {},
   "outputs": [
    {
     "name": "stdout",
     "output_type": "stream",
     "text": [
      "0    False\n",
      "1     True\n",
      "2    False\n",
      "Name: autores, dtype: bool\n"
     ]
    }
   ],
   "source": [
    "#As tabelas do dataframe tambem permitem a criacao de mascaras booleanas\n",
    "mask = df[\"autores\"] == \"Machado de Assis\"\n",
    "print(mask)"
   ]
  },
  {
   "cell_type": "code",
   "execution_count": 85,
   "id": "04333353",
   "metadata": {},
   "outputs": [
    {
     "data": {
      "text/html": [
       "<div>\n",
       "<style scoped>\n",
       "    .dataframe tbody tr th:only-of-type {\n",
       "        vertical-align: middle;\n",
       "    }\n",
       "\n",
       "    .dataframe tbody tr th {\n",
       "        vertical-align: top;\n",
       "    }\n",
       "\n",
       "    .dataframe thead th {\n",
       "        text-align: right;\n",
       "    }\n",
       "</style>\n",
       "<table border=\"1\" class=\"dataframe\">\n",
       "  <thead>\n",
       "    <tr style=\"text-align: right;\">\n",
       "      <th></th>\n",
       "      <th>titulos</th>\n",
       "      <th>autores</th>\n",
       "      <th>anos</th>\n",
       "      <th>editoras</th>\n",
       "      <th>valor</th>\n",
       "    </tr>\n",
       "  </thead>\n",
       "  <tbody>\n",
       "    <tr>\n",
       "      <th>1</th>\n",
       "      <td>Dom Casmurro</td>\n",
       "      <td>Machado de Assis</td>\n",
       "      <td>1899</td>\n",
       "      <td>Editora Brasileira</td>\n",
       "      <td>25.9</td>\n",
       "    </tr>\n",
       "  </tbody>\n",
       "</table>\n",
       "</div>"
      ],
      "text/plain": [
       "        titulos           autores  anos            editoras  valor\n",
       "1  Dom Casmurro  Machado de Assis  1899  Editora Brasileira   25.9"
      ]
     },
     "execution_count": 85,
     "metadata": {},
     "output_type": "execute_result"
    }
   ],
   "source": [
    "#Com a mascara booleana, podemos fazer filtragens em nossas tabelas\n",
    "df[mask]"
   ]
  },
  {
   "cell_type": "code",
   "execution_count": 86,
   "id": "08e37a60",
   "metadata": {},
   "outputs": [
    {
     "name": "stderr",
     "output_type": "stream",
     "text": [
      "C:\\Users\\adaia\\AppData\\Local\\Temp\\ipykernel_18648\\2360361215.py:2: FutureWarning: The frame.append method is deprecated and will be removed from pandas in a future version. Use pandas.concat instead.\n",
      "  df = df.append({'titulos' : 'A revolução dos bichos', 'autores' : 'George Orwell', 'anos' : 1945, 'editoras' : 'Princips', 'valor' : 25.5}, ignore_index= True)\n"
     ]
    }
   ],
   "source": [
    "# Podemos adiconar novos valores a tabela atraves da funcao append, assim como numa lista\n",
    "df = df.append({'titulos' : 'A revolução dos bichos', 'autores' : 'George Orwell', 'anos' : 1945, 'editoras' : 'Princips', 'valor' : 25.5}, ignore_index= True)"
   ]
  },
  {
   "cell_type": "code",
   "execution_count": 87,
   "id": "9715b810",
   "metadata": {},
   "outputs": [
    {
     "data": {
      "text/html": [
       "<div>\n",
       "<style scoped>\n",
       "    .dataframe tbody tr th:only-of-type {\n",
       "        vertical-align: middle;\n",
       "    }\n",
       "\n",
       "    .dataframe tbody tr th {\n",
       "        vertical-align: top;\n",
       "    }\n",
       "\n",
       "    .dataframe thead th {\n",
       "        text-align: right;\n",
       "    }\n",
       "</style>\n",
       "<table border=\"1\" class=\"dataframe\">\n",
       "  <thead>\n",
       "    <tr style=\"text-align: right;\">\n",
       "      <th></th>\n",
       "      <th>titulos</th>\n",
       "      <th>autores</th>\n",
       "      <th>anos</th>\n",
       "      <th>editoras</th>\n",
       "      <th>valor</th>\n",
       "    </tr>\n",
       "  </thead>\n",
       "  <tbody>\n",
       "    <tr>\n",
       "      <th>0</th>\n",
       "      <td>Cem Anos de Solidão</td>\n",
       "      <td>Gabriel Garcia Marquez</td>\n",
       "      <td>1967</td>\n",
       "      <td>Harper &amp; Row</td>\n",
       "      <td>45.00</td>\n",
       "    </tr>\n",
       "    <tr>\n",
       "      <th>1</th>\n",
       "      <td>Dom Casmurro</td>\n",
       "      <td>Machado de Assis</td>\n",
       "      <td>1899</td>\n",
       "      <td>Editora Brasileira</td>\n",
       "      <td>25.90</td>\n",
       "    </tr>\n",
       "    <tr>\n",
       "      <th>2</th>\n",
       "      <td>A Metamorfose</td>\n",
       "      <td>Franz Kafka</td>\n",
       "      <td>1915</td>\n",
       "      <td>Wolff</td>\n",
       "      <td>34.99</td>\n",
       "    </tr>\n",
       "    <tr>\n",
       "      <th>3</th>\n",
       "      <td>A revolução dos bichos</td>\n",
       "      <td>George Orwell</td>\n",
       "      <td>1945</td>\n",
       "      <td>Princips</td>\n",
       "      <td>25.50</td>\n",
       "    </tr>\n",
       "  </tbody>\n",
       "</table>\n",
       "</div>"
      ],
      "text/plain": [
       "                  titulos                 autores  anos            editoras  \\\n",
       "0     Cem Anos de Solidão  Gabriel Garcia Marquez  1967        Harper & Row   \n",
       "1            Dom Casmurro        Machado de Assis  1899  Editora Brasileira   \n",
       "2           A Metamorfose             Franz Kafka  1915               Wolff   \n",
       "3  A revolução dos bichos           George Orwell  1945            Princips   \n",
       "\n",
       "   valor  \n",
       "0  45.00  \n",
       "1  25.90  \n",
       "2  34.99  \n",
       "3  25.50  "
      ]
     },
     "execution_count": 87,
     "metadata": {},
     "output_type": "execute_result"
    }
   ],
   "source": [
    "df"
   ]
  },
  {
   "cell_type": "code",
   "execution_count": 88,
   "id": "661cddc2",
   "metadata": {},
   "outputs": [],
   "source": [
    "# Para editar algum item na tabela pode ser usada a funcao loc\n",
    "edit_mask = df[\"titulos\"] == \"A revolução dos bichos\"\n",
    "df.loc[edit_mask, \"titulos\"] = \"Revolução dos bichos\""
   ]
  },
  {
   "cell_type": "code",
   "execution_count": 89,
   "id": "e283e3b2",
   "metadata": {},
   "outputs": [
    {
     "data": {
      "text/html": [
       "<div>\n",
       "<style scoped>\n",
       "    .dataframe tbody tr th:only-of-type {\n",
       "        vertical-align: middle;\n",
       "    }\n",
       "\n",
       "    .dataframe tbody tr th {\n",
       "        vertical-align: top;\n",
       "    }\n",
       "\n",
       "    .dataframe thead th {\n",
       "        text-align: right;\n",
       "    }\n",
       "</style>\n",
       "<table border=\"1\" class=\"dataframe\">\n",
       "  <thead>\n",
       "    <tr style=\"text-align: right;\">\n",
       "      <th></th>\n",
       "      <th>titulos</th>\n",
       "      <th>autores</th>\n",
       "      <th>anos</th>\n",
       "      <th>editoras</th>\n",
       "      <th>valor</th>\n",
       "    </tr>\n",
       "  </thead>\n",
       "  <tbody>\n",
       "    <tr>\n",
       "      <th>0</th>\n",
       "      <td>Cem Anos de Solidão</td>\n",
       "      <td>Gabriel Garcia Marquez</td>\n",
       "      <td>1967</td>\n",
       "      <td>Harper &amp; Row</td>\n",
       "      <td>45.00</td>\n",
       "    </tr>\n",
       "    <tr>\n",
       "      <th>1</th>\n",
       "      <td>Dom Casmurro</td>\n",
       "      <td>Machado de Assis</td>\n",
       "      <td>1899</td>\n",
       "      <td>Editora Brasileira</td>\n",
       "      <td>25.90</td>\n",
       "    </tr>\n",
       "    <tr>\n",
       "      <th>2</th>\n",
       "      <td>A Metamorfose</td>\n",
       "      <td>Franz Kafka</td>\n",
       "      <td>1915</td>\n",
       "      <td>Wolff</td>\n",
       "      <td>34.99</td>\n",
       "    </tr>\n",
       "    <tr>\n",
       "      <th>3</th>\n",
       "      <td>Revolução dos bichos</td>\n",
       "      <td>George Orwell</td>\n",
       "      <td>1945</td>\n",
       "      <td>Princips</td>\n",
       "      <td>25.50</td>\n",
       "    </tr>\n",
       "  </tbody>\n",
       "</table>\n",
       "</div>"
      ],
      "text/plain": [
       "                titulos                 autores  anos            editoras  \\\n",
       "0   Cem Anos de Solidão  Gabriel Garcia Marquez  1967        Harper & Row   \n",
       "1          Dom Casmurro        Machado de Assis  1899  Editora Brasileira   \n",
       "2         A Metamorfose             Franz Kafka  1915               Wolff   \n",
       "3  Revolução dos bichos           George Orwell  1945            Princips   \n",
       "\n",
       "   valor  \n",
       "0  45.00  \n",
       "1  25.90  \n",
       "2  34.99  \n",
       "3  25.50  "
      ]
     },
     "execution_count": 89,
     "metadata": {},
     "output_type": "execute_result"
    }
   ],
   "source": [
    "df"
   ]
  },
  {
   "cell_type": "code",
   "execution_count": 91,
   "id": "0c4e7c9f",
   "metadata": {},
   "outputs": [
    {
     "name": "stderr",
     "output_type": "stream",
     "text": [
      "C:\\Users\\adaia\\AppData\\Local\\Temp\\ipykernel_18648\\3842931086.py:1: FutureWarning: The frame.append method is deprecated and will be removed from pandas in a future version. Use pandas.concat instead.\n",
      "  df = df.append({'titulos' : 'A revolução', 'autores' : 'George Orwell', 'anos' : 1945, 'editoras' : 'Princips', 'valor' : 25.5}, ignore_index= True)\n"
     ]
    }
   ],
   "source": [
    "df = df.append({'titulos' : 'A revolução', 'autores' : 'George Orwell', 'anos' : 1945, 'editoras' : 'Princips', 'valor' : 25.5}, ignore_index= True)"
   ]
  },
  {
   "cell_type": "code",
   "execution_count": 92,
   "id": "bdd89075",
   "metadata": {},
   "outputs": [
    {
     "data": {
      "text/html": [
       "<div>\n",
       "<style scoped>\n",
       "    .dataframe tbody tr th:only-of-type {\n",
       "        vertical-align: middle;\n",
       "    }\n",
       "\n",
       "    .dataframe tbody tr th {\n",
       "        vertical-align: top;\n",
       "    }\n",
       "\n",
       "    .dataframe thead th {\n",
       "        text-align: right;\n",
       "    }\n",
       "</style>\n",
       "<table border=\"1\" class=\"dataframe\">\n",
       "  <thead>\n",
       "    <tr style=\"text-align: right;\">\n",
       "      <th></th>\n",
       "      <th>titulos</th>\n",
       "      <th>autores</th>\n",
       "      <th>anos</th>\n",
       "      <th>editoras</th>\n",
       "      <th>valor</th>\n",
       "    </tr>\n",
       "  </thead>\n",
       "  <tbody>\n",
       "    <tr>\n",
       "      <th>0</th>\n",
       "      <td>Cem Anos de Solidão</td>\n",
       "      <td>Gabriel Garcia Marquez</td>\n",
       "      <td>1967</td>\n",
       "      <td>Harper &amp; Row</td>\n",
       "      <td>45.00</td>\n",
       "    </tr>\n",
       "    <tr>\n",
       "      <th>1</th>\n",
       "      <td>Dom Casmurro</td>\n",
       "      <td>Machado de Assis</td>\n",
       "      <td>1899</td>\n",
       "      <td>Editora Brasileira</td>\n",
       "      <td>25.90</td>\n",
       "    </tr>\n",
       "    <tr>\n",
       "      <th>2</th>\n",
       "      <td>A Metamorfose</td>\n",
       "      <td>Franz Kafka</td>\n",
       "      <td>1915</td>\n",
       "      <td>Wolff</td>\n",
       "      <td>34.99</td>\n",
       "    </tr>\n",
       "    <tr>\n",
       "      <th>3</th>\n",
       "      <td>Revolução dos bichos</td>\n",
       "      <td>George Orwell</td>\n",
       "      <td>1945</td>\n",
       "      <td>Princips</td>\n",
       "      <td>25.50</td>\n",
       "    </tr>\n",
       "  </tbody>\n",
       "</table>\n",
       "</div>"
      ],
      "text/plain": [
       "                titulos                 autores  anos            editoras  \\\n",
       "0   Cem Anos de Solidão  Gabriel Garcia Marquez  1967        Harper & Row   \n",
       "1          Dom Casmurro        Machado de Assis  1899  Editora Brasileira   \n",
       "2         A Metamorfose             Franz Kafka  1915               Wolff   \n",
       "3  Revolução dos bichos           George Orwell  1945            Princips   \n",
       "\n",
       "   valor  \n",
       "0  45.00  \n",
       "1  25.90  \n",
       "2  34.99  \n",
       "3  25.50  "
      ]
     },
     "execution_count": 92,
     "metadata": {},
     "output_type": "execute_result"
    }
   ],
   "source": [
    "# Em caso de dados repetidos ou de adicao de um dado nao pertencente a tabela, podemos usar a funcao drop\n",
    "index = df\n",
    "df.drop([4])"
   ]
  },
  {
   "cell_type": "code",
   "execution_count": null,
   "id": "de1ba9e9",
   "metadata": {},
   "outputs": [],
   "source": []
  }
 ],
 "metadata": {
  "kernelspec": {
   "display_name": "Python 3 (ipykernel)",
   "language": "python",
   "name": "python3"
  },
  "language_info": {
   "codemirror_mode": {
    "name": "ipython",
    "version": 3
   },
   "file_extension": ".py",
   "mimetype": "text/x-python",
   "name": "python",
   "nbconvert_exporter": "python",
   "pygments_lexer": "ipython3",
   "version": "3.9.13"
  }
 },
 "nbformat": 4,
 "nbformat_minor": 5
}
