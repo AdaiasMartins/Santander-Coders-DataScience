{
 "cells": [
  {
   "cell_type": "markdown",
   "id": "6e7f01a3",
   "metadata": {},
   "source": [
    "# Introducao Pandas"
   ]
  },
  {
   "cell_type": "code",
   "execution_count": 33,
   "id": "746c838e",
   "metadata": {},
   "outputs": [],
   "source": [
    "import pandas as pd"
   ]
  },
  {
   "cell_type": "code",
   "execution_count": 34,
   "id": "74ba2120",
   "metadata": {},
   "outputs": [],
   "source": [
    "#O pandas pode ser muito util para indexar listas\n",
    "lista_de_numeros = [92, 10, 13, 32, 25, 13, 92, 52]\n",
    "\n",
    "serie_pandas = pd.Series(lista_de_numeros)"
   ]
  },
  {
   "cell_type": "code",
   "execution_count": 35,
   "id": "61a876d4",
   "metadata": {
    "scrolled": true
   },
   "outputs": [
    {
     "name": "stdout",
     "output_type": "stream",
     "text": [
      "0    92\n",
      "1    10\n",
      "2    13\n",
      "3    32\n",
      "4    25\n",
      "5    13\n",
      "6    92\n",
      "7    52\n",
      "dtype: int64\n",
      "O segundo numero da lista:  10\n"
     ]
    }
   ],
   "source": [
    "print(serie_pandas)\n",
    "print(\"O segundo numero da lista: \", serie_pandas[1])"
   ]
  },
  {
   "cell_type": "code",
   "execution_count": 23,
   "id": "79c60c51",
   "metadata": {},
   "outputs": [],
   "source": [
    "#Ele pode usar palavras como index, como por exemplo em um dicionario  de notas\n",
    "notas = {\"lucas\" : 8, \"joao\": 9, \"maria\" : 10, \"vitoria\" : 10}\n",
    "\n",
    "notas_pandas = pd.Series(notas)"
   ]
  },
  {
   "cell_type": "code",
   "execution_count": 24,
   "id": "cd663ec9",
   "metadata": {},
   "outputs": [
    {
     "name": "stdout",
     "output_type": "stream",
     "text": [
      "lucas       8\n",
      "joao        9\n",
      "maria      10\n",
      "vitoria    10\n",
      "dtype: int64\n",
      "A nota de Lucas foi:  8\n"
     ]
    }
   ],
   "source": [
    "print(notas_pandas)\n",
    "print(\"A nota de Lucas foi: \", notas_pandas[\"lucas\"])"
   ]
  },
  {
   "cell_type": "markdown",
   "id": "359f5e68",
   "metadata": {},
   "source": [
    "# Funcoes mais usadas Pandas"
   ]
  },
  {
   "cell_type": "code",
   "execution_count": 28,
   "id": "683b1431",
   "metadata": {},
   "outputs": [],
   "source": [
    "#O unique pode ser usado para buscar todos os elementos de uma tabela sem repeti-los\n",
    "numeros_unicos = serie_pandas.unique()\n",
    "#O describle mostra estatísticas descritivas, como média, desvio padrão, máximo, mínimo e outras tendências centrais\n",
    "descricao = serie_pandas.describe()"
   ]
  },
  {
   "cell_type": "code",
   "execution_count": 31,
   "id": "0bbe4b73",
   "metadata": {},
   "outputs": [
    {
     "name": "stdout",
     "output_type": "stream",
     "text": [
      "[92 10 13 32 25 52]\n"
     ]
    }
   ],
   "source": [
    "print(numeros_unicos)"
   ]
  },
  {
   "cell_type": "code",
   "execution_count": 32,
   "id": "98bd831c",
   "metadata": {},
   "outputs": [
    {
     "name": "stdout",
     "output_type": "stream",
     "text": [
      "count     8.000000\n",
      "mean     41.125000\n",
      "std      34.202913\n",
      "min      10.000000\n",
      "25%      13.000000\n",
      "50%      28.500000\n",
      "75%      62.000000\n",
      "max      92.000000\n",
      "dtype: float64\n"
     ]
    }
   ],
   "source": [
    "print(descricao)"
   ]
  }
 ],
 "metadata": {
  "kernelspec": {
   "display_name": "Python 3 (ipykernel)",
   "language": "python",
   "name": "python3"
  },
  "language_info": {
   "codemirror_mode": {
    "name": "ipython",
    "version": 3
   },
   "file_extension": ".py",
   "mimetype": "text/x-python",
   "name": "python",
   "nbconvert_exporter": "python",
   "pygments_lexer": "ipython3",
   "version": "3.9.13"
  }
 },
 "nbformat": 4,
 "nbformat_minor": 5
}
